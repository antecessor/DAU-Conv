{
  "nbformat": 4,
  "nbformat_minor": 0,
  "metadata": {
    "colab": {
      "name": "AdaptiveDAU-Conv.ipynb",
      "provenance": [],
      "collapsed_sections": [],
      "toc_visible": true
    },
    "kernelspec": {
      "name": "python3",
      "display_name": "Python 3"
    },
    "language_info": {
      "name": "python"
    },
    "accelerator": "GPU",
    "widgets": {
      "application/vnd.jupyter.widget-state+json": {
        "4d65652c34c44d78999cacdf79984ef3": {
          "model_module": "@jupyter-widgets/controls",
          "model_name": "HBoxModel",
          "model_module_version": "1.5.0",
          "state": {
            "_view_name": "HBoxView",
            "_dom_classes": [],
            "_model_name": "HBoxModel",
            "_view_module": "@jupyter-widgets/controls",
            "_model_module_version": "1.5.0",
            "_view_count": null,
            "_view_module_version": "1.5.0",
            "box_style": "",
            "layout": "IPY_MODEL_634208e9fe0646c6a3c04e10e445e695",
            "_model_module": "@jupyter-widgets/controls",
            "children": [
              "IPY_MODEL_1cfa844e02b048cab2e63db95d4c5b9a",
              "IPY_MODEL_bfb2338621b5418fb114a69d8b07af6f",
              "IPY_MODEL_cf0748fba3ca4464908dfd67b3477f12"
            ]
          }
        },
        "634208e9fe0646c6a3c04e10e445e695": {
          "model_module": "@jupyter-widgets/base",
          "model_name": "LayoutModel",
          "model_module_version": "1.2.0",
          "state": {
            "_view_name": "LayoutView",
            "grid_template_rows": null,
            "right": null,
            "justify_content": null,
            "_view_module": "@jupyter-widgets/base",
            "overflow": null,
            "_model_module_version": "1.2.0",
            "_view_count": null,
            "flex_flow": null,
            "width": null,
            "min_width": null,
            "border": null,
            "align_items": null,
            "bottom": null,
            "_model_module": "@jupyter-widgets/base",
            "top": null,
            "grid_column": null,
            "overflow_y": null,
            "overflow_x": null,
            "grid_auto_flow": null,
            "grid_area": null,
            "grid_template_columns": null,
            "flex": null,
            "_model_name": "LayoutModel",
            "justify_items": null,
            "grid_row": null,
            "max_height": null,
            "align_content": null,
            "visibility": null,
            "align_self": null,
            "height": null,
            "min_height": null,
            "padding": null,
            "grid_auto_rows": null,
            "grid_gap": null,
            "max_width": null,
            "order": null,
            "_view_module_version": "1.2.0",
            "grid_template_areas": null,
            "object_position": null,
            "object_fit": null,
            "grid_auto_columns": null,
            "margin": null,
            "display": null,
            "left": null
          }
        },
        "1cfa844e02b048cab2e63db95d4c5b9a": {
          "model_module": "@jupyter-widgets/controls",
          "model_name": "HTMLModel",
          "model_module_version": "1.5.0",
          "state": {
            "_view_name": "HTMLView",
            "style": "IPY_MODEL_44bfaa963e154c48a3566daa185fe1a5",
            "_dom_classes": [],
            "description": "",
            "_model_name": "HTMLModel",
            "placeholder": "​",
            "_view_module": "@jupyter-widgets/controls",
            "_model_module_version": "1.5.0",
            "value": "",
            "_view_count": null,
            "_view_module_version": "1.5.0",
            "description_tooltip": null,
            "_model_module": "@jupyter-widgets/controls",
            "layout": "IPY_MODEL_d23d20edfa4e41f7a18e87cf91f3d868"
          }
        },
        "bfb2338621b5418fb114a69d8b07af6f": {
          "model_module": "@jupyter-widgets/controls",
          "model_name": "FloatProgressModel",
          "model_module_version": "1.5.0",
          "state": {
            "_view_name": "ProgressView",
            "style": "IPY_MODEL_a0f67e6faaf34bdfbd0ff492de597518",
            "_dom_classes": [],
            "description": "",
            "_model_name": "FloatProgressModel",
            "bar_style": "success",
            "max": 170498071,
            "_view_module": "@jupyter-widgets/controls",
            "_model_module_version": "1.5.0",
            "value": 170498071,
            "_view_count": null,
            "_view_module_version": "1.5.0",
            "orientation": "horizontal",
            "min": 0,
            "description_tooltip": null,
            "_model_module": "@jupyter-widgets/controls",
            "layout": "IPY_MODEL_b38623454ff94d85b7b43af6a17be666"
          }
        },
        "cf0748fba3ca4464908dfd67b3477f12": {
          "model_module": "@jupyter-widgets/controls",
          "model_name": "HTMLModel",
          "model_module_version": "1.5.0",
          "state": {
            "_view_name": "HTMLView",
            "style": "IPY_MODEL_5e57a2ea4ab7487b8f9bb427ae3da277",
            "_dom_classes": [],
            "description": "",
            "_model_name": "HTMLModel",
            "placeholder": "​",
            "_view_module": "@jupyter-widgets/controls",
            "_model_module_version": "1.5.0",
            "value": " 170499072/? [00:03&lt;00:00, 69905859.63it/s]",
            "_view_count": null,
            "_view_module_version": "1.5.0",
            "description_tooltip": null,
            "_model_module": "@jupyter-widgets/controls",
            "layout": "IPY_MODEL_752083fc59c344098e7d610cacde8f1c"
          }
        },
        "44bfaa963e154c48a3566daa185fe1a5": {
          "model_module": "@jupyter-widgets/controls",
          "model_name": "DescriptionStyleModel",
          "model_module_version": "1.5.0",
          "state": {
            "_view_name": "StyleView",
            "_model_name": "DescriptionStyleModel",
            "description_width": "",
            "_view_module": "@jupyter-widgets/base",
            "_model_module_version": "1.5.0",
            "_view_count": null,
            "_view_module_version": "1.2.0",
            "_model_module": "@jupyter-widgets/controls"
          }
        },
        "d23d20edfa4e41f7a18e87cf91f3d868": {
          "model_module": "@jupyter-widgets/base",
          "model_name": "LayoutModel",
          "model_module_version": "1.2.0",
          "state": {
            "_view_name": "LayoutView",
            "grid_template_rows": null,
            "right": null,
            "justify_content": null,
            "_view_module": "@jupyter-widgets/base",
            "overflow": null,
            "_model_module_version": "1.2.0",
            "_view_count": null,
            "flex_flow": null,
            "width": null,
            "min_width": null,
            "border": null,
            "align_items": null,
            "bottom": null,
            "_model_module": "@jupyter-widgets/base",
            "top": null,
            "grid_column": null,
            "overflow_y": null,
            "overflow_x": null,
            "grid_auto_flow": null,
            "grid_area": null,
            "grid_template_columns": null,
            "flex": null,
            "_model_name": "LayoutModel",
            "justify_items": null,
            "grid_row": null,
            "max_height": null,
            "align_content": null,
            "visibility": null,
            "align_self": null,
            "height": null,
            "min_height": null,
            "padding": null,
            "grid_auto_rows": null,
            "grid_gap": null,
            "max_width": null,
            "order": null,
            "_view_module_version": "1.2.0",
            "grid_template_areas": null,
            "object_position": null,
            "object_fit": null,
            "grid_auto_columns": null,
            "margin": null,
            "display": null,
            "left": null
          }
        },
        "a0f67e6faaf34bdfbd0ff492de597518": {
          "model_module": "@jupyter-widgets/controls",
          "model_name": "ProgressStyleModel",
          "model_module_version": "1.5.0",
          "state": {
            "_view_name": "StyleView",
            "_model_name": "ProgressStyleModel",
            "description_width": "",
            "_view_module": "@jupyter-widgets/base",
            "_model_module_version": "1.5.0",
            "_view_count": null,
            "_view_module_version": "1.2.0",
            "bar_color": null,
            "_model_module": "@jupyter-widgets/controls"
          }
        },
        "b38623454ff94d85b7b43af6a17be666": {
          "model_module": "@jupyter-widgets/base",
          "model_name": "LayoutModel",
          "model_module_version": "1.2.0",
          "state": {
            "_view_name": "LayoutView",
            "grid_template_rows": null,
            "right": null,
            "justify_content": null,
            "_view_module": "@jupyter-widgets/base",
            "overflow": null,
            "_model_module_version": "1.2.0",
            "_view_count": null,
            "flex_flow": null,
            "width": null,
            "min_width": null,
            "border": null,
            "align_items": null,
            "bottom": null,
            "_model_module": "@jupyter-widgets/base",
            "top": null,
            "grid_column": null,
            "overflow_y": null,
            "overflow_x": null,
            "grid_auto_flow": null,
            "grid_area": null,
            "grid_template_columns": null,
            "flex": null,
            "_model_name": "LayoutModel",
            "justify_items": null,
            "grid_row": null,
            "max_height": null,
            "align_content": null,
            "visibility": null,
            "align_self": null,
            "height": null,
            "min_height": null,
            "padding": null,
            "grid_auto_rows": null,
            "grid_gap": null,
            "max_width": null,
            "order": null,
            "_view_module_version": "1.2.0",
            "grid_template_areas": null,
            "object_position": null,
            "object_fit": null,
            "grid_auto_columns": null,
            "margin": null,
            "display": null,
            "left": null
          }
        },
        "5e57a2ea4ab7487b8f9bb427ae3da277": {
          "model_module": "@jupyter-widgets/controls",
          "model_name": "DescriptionStyleModel",
          "model_module_version": "1.5.0",
          "state": {
            "_view_name": "StyleView",
            "_model_name": "DescriptionStyleModel",
            "description_width": "",
            "_view_module": "@jupyter-widgets/base",
            "_model_module_version": "1.5.0",
            "_view_count": null,
            "_view_module_version": "1.2.0",
            "_model_module": "@jupyter-widgets/controls"
          }
        },
        "752083fc59c344098e7d610cacde8f1c": {
          "model_module": "@jupyter-widgets/base",
          "model_name": "LayoutModel",
          "model_module_version": "1.2.0",
          "state": {
            "_view_name": "LayoutView",
            "grid_template_rows": null,
            "right": null,
            "justify_content": null,
            "_view_module": "@jupyter-widgets/base",
            "overflow": null,
            "_model_module_version": "1.2.0",
            "_view_count": null,
            "flex_flow": null,
            "width": null,
            "min_width": null,
            "border": null,
            "align_items": null,
            "bottom": null,
            "_model_module": "@jupyter-widgets/base",
            "top": null,
            "grid_column": null,
            "overflow_y": null,
            "overflow_x": null,
            "grid_auto_flow": null,
            "grid_area": null,
            "grid_template_columns": null,
            "flex": null,
            "_model_name": "LayoutModel",
            "justify_items": null,
            "grid_row": null,
            "max_height": null,
            "align_content": null,
            "visibility": null,
            "align_self": null,
            "height": null,
            "min_height": null,
            "padding": null,
            "grid_auto_rows": null,
            "grid_gap": null,
            "max_width": null,
            "order": null,
            "_view_module_version": "1.2.0",
            "grid_template_areas": null,
            "object_position": null,
            "object_fit": null,
            "grid_auto_columns": null,
            "margin": null,
            "display": null,
            "left": null
          }
        }
      }
    }
  },
  "cells": [
    {
      "cell_type": "code",
      "source": [
        "import torch\n",
        "torch.cuda.get_device_name(0)"
      ],
      "metadata": {
        "colab": {
          "base_uri": "https://localhost:8080/",
          "height": 35
        },
        "id": "_g7jRH_kdZIL",
        "outputId": "ea8ec8ef-3e42-42ac-f00d-4f8099aefa17"
      },
      "execution_count": 1,
      "outputs": [
        {
          "output_type": "execute_result",
          "data": {
            "application/vnd.google.colaboratory.intrinsic+json": {
              "type": "string"
            },
            "text/plain": [
              "'Tesla K80'"
            ]
          },
          "metadata": {},
          "execution_count": 1
        }
      ]
    },
    {
      "cell_type": "code",
      "execution_count": 2,
      "metadata": {
        "id": "xrubjmkNcpSv"
      },
      "outputs": [],
      "source": [
        "import torch\n",
        "from torch import nn\n",
        "import torch.nn.functional as F\n",
        "import numpy as np\n",
        "import math\n",
        "use_cuda = True\n",
        "device = torch.device(\"cuda:0\" if use_cuda else \"cpu\")\n",
        "\n",
        "class DAU(nn.Module):\n",
        "    def __init__(self, input_channels, output_channels, dau_unit=3, max_kernel_size=32):\n",
        "       super(DAU, self).__init__()\n",
        "       self.max_kernel_size=max_kernel_size\n",
        "       self.input_channels=input_channels\n",
        "       self.output_channels=output_channels\n",
        "       self.dau_unit = dau_unit\n",
        "       self.w = nn.Parameter(torch.ones(1, self.output_channels,max_kernel_size,max_kernel_size,requires_grad=True,device=device))\n",
        "       self.mu1 = nn.Parameter(torch.ones((1, dau_unit),device=device))\n",
        "       self.mu2 = nn.Parameter(torch.ones((1, dau_unit),device=device))\n",
        "       self.sigma = 0.5\n",
        "       self.reset_parameters()\n",
        "       [X,Y] = np.meshgrid(np.arange(max_kernel_size),np.arange(max_kernel_size))\n",
        "       X = X.astype(np.float32)\n",
        "       Y = Y.astype(np.float32)\n",
        "       self.X = torch.tensor(np.reshape(X,(max_kernel_size*max_kernel_size,1,1,1)) - int(max_kernel_size/2),device=device)\n",
        "       self.Y = torch.tensor(np.reshape(Y,(max_kernel_size*max_kernel_size,1,1,1)) - int(max_kernel_size/2),device=device)\n",
        "       self.X = self.X / torch.max(self.X)\n",
        "       self.Y = self.Y / torch.max(self.Y)\n",
        "\n",
        "        \n",
        "    def reset_parameters(self):\n",
        "        stdv = 1. / math.sqrt(self.w.size(1))\n",
        "        self.w.data.uniform_(-stdv, stdv)\n",
        "        stdv = 1. / math.sqrt(self.mu1.size(1))\n",
        "        self.mu1.data.uniform_(-stdv, stdv)\n",
        "        stdv = 1. / math.sqrt(self.mu2.size(1))\n",
        "        self.mu2.data.uniform_(-stdv, stdv)\n",
        "\n",
        "        \n",
        "    def forward(self, inputs):\n",
        "        # print(torch.mean(self.mu1))\n",
        "        # print(torch.mean(self.mu2))\n",
        "        gaussian_kernels_norm=[]\n",
        " \n",
        "        for i in range(self.dau_unit):\n",
        "            gaussian_kernel = torch.exp(-1*(torch.pow(self.X-self.mu1[0][i],2)+torch.pow(self.Y-self.mu2[0][i],2))/(2.0*self.sigma**2))\n",
        "            gauss_kernel_sum = torch.sum(gaussian_kernel, dim =0, keepdim=True)\n",
        "            gauss_kernel_norm = torch.div(gaussian_kernel, gauss_kernel_sum)\n",
        "            gaussian_kernels_norm.append(gauss_kernel_norm)\n",
        "\n",
        "        gauss_kernel_norm = torch.cat(gaussian_kernels_norm, dim=1)\n",
        "\n",
        "        gauss_kernel_norm = torch.sum(gauss_kernel_norm,dim =1, keepdim=True,)\n",
        "\n",
        "        gauss_kernel_norm = torch.reshape(gauss_kernel_norm, (1, 1, self.max_kernel_size, self.max_kernel_size,))\n",
        "        gauss_kernel_norm = gauss_kernel_norm.repeat(1,self.input_channels,1,1)\n",
        "        # print(gauss_kernel_norm.size())\n",
        "        output = F.conv2d(inputs,gauss_kernel_norm,padding='same')\n",
        "        # print(output.size())\n",
        "        output = output.mul(self.w)\n",
        "\n",
        "        return output"
      ]
    },
    {
      "cell_type": "code",
      "source": [
        "import torch\n",
        "import torchvision\n",
        "import torchvision.transforms as transforms\n",
        "import ssl\n",
        "ssl._create_default_https_context = ssl._create_unverified_context\n",
        "\n",
        "transform = transforms.Compose(\n",
        "    [transforms.ToTensor(),\n",
        "     transforms.Normalize((0.5, 0.5, 0.5), (0.5, 0.5, 0.5))])\n",
        "\n",
        "batch_size = 16\n",
        "\n",
        "trainset = torchvision.datasets.CIFAR10(root='./data', train=True,\n",
        "                                        download=True, transform=transform)\n",
        "trainloader = torch.utils.data.DataLoader(trainset, batch_size=batch_size,\n",
        "                                          shuffle=True, num_workers=1)\n",
        "\n",
        "testset = torchvision.datasets.CIFAR10(root='./data', train=False,\n",
        "                                       download=True, transform=transform)\n",
        "testloader = torch.utils.data.DataLoader(testset, batch_size=batch_size,\n",
        "                                         shuffle=False, num_workers=1)\n",
        "\n",
        "classes = ('plane', 'car', 'bird', 'cat',\n",
        "           'deer', 'dog', 'frog', 'horse', 'ship', 'truck')"
      ],
      "metadata": {
        "colab": {
          "base_uri": "https://localhost:8080/",
          "height": 101,
          "referenced_widgets": [
            "4d65652c34c44d78999cacdf79984ef3",
            "634208e9fe0646c6a3c04e10e445e695",
            "1cfa844e02b048cab2e63db95d4c5b9a",
            "bfb2338621b5418fb114a69d8b07af6f",
            "cf0748fba3ca4464908dfd67b3477f12",
            "44bfaa963e154c48a3566daa185fe1a5",
            "d23d20edfa4e41f7a18e87cf91f3d868",
            "a0f67e6faaf34bdfbd0ff492de597518",
            "b38623454ff94d85b7b43af6a17be666",
            "5e57a2ea4ab7487b8f9bb427ae3da277",
            "752083fc59c344098e7d610cacde8f1c"
          ]
        },
        "id": "IDZF0zmgcrpt",
        "outputId": "fd348232-3ea9-461d-fb76-8c39af700c3e"
      },
      "execution_count": 3,
      "outputs": [
        {
          "output_type": "stream",
          "name": "stdout",
          "text": [
            "Downloading https://www.cs.toronto.edu/~kriz/cifar-10-python.tar.gz to ./data/cifar-10-python.tar.gz\n"
          ]
        },
        {
          "output_type": "display_data",
          "data": {
            "application/vnd.jupyter.widget-view+json": {
              "model_id": "4d65652c34c44d78999cacdf79984ef3",
              "version_minor": 0,
              "version_major": 2
            },
            "text/plain": [
              "  0%|          | 0/170498071 [00:00<?, ?it/s]"
            ]
          },
          "metadata": {}
        },
        {
          "output_type": "stream",
          "name": "stdout",
          "text": [
            "Extracting ./data/cifar-10-python.tar.gz to ./data\n",
            "Files already downloaded and verified\n"
          ]
        }
      ]
    },
    {
      "cell_type": "code",
      "source": [
        "class Net(nn.Module):\n",
        "    def __init__(self):\n",
        "        super().__init__()\n",
        "        device = torch.device('cuda:0')\n",
        "        self.DAUs=nn.ModuleList([DAU(3,12,3).to(device), DAU(12,6,6).to(device)])\n",
        "        self.fc1 = nn.Linear(6144, 256)\n",
        "        self.fc2 = nn.Linear(256, 128)\n",
        "        self.fc3 = nn.Linear(128, 10)\n",
        "\n",
        "    def forward(self, x):\n",
        "        for i, l in enumerate(self.DAUs):\n",
        "            x = self.DAUs[i](x)\n",
        "        x = torch.flatten(x, 1) # flatten all dimensions except batch\n",
        "        x = F.relu(self.fc1(x))\n",
        "        x = F.relu(self.fc2(x))\n",
        "        x = self.fc3(x)\n",
        "\n",
        "        return x\n",
        "\n"
      ],
      "metadata": {
        "id": "3CSAdrBpcstm"
      },
      "execution_count": 4,
      "outputs": []
    },
    {
      "cell_type": "code",
      "source": [
        "import torch.optim as optim\n",
        "from torchsummary import summary\n",
        "\n",
        "net = Net()\n",
        "net.to(torch.device('cuda:0'))\n",
        "criterion = nn.CrossEntropyLoss()\n",
        "\n",
        "optimizer = optim.SGD([\n",
        "    {'params': net.DAUs[0].mu1, 'lr': 0.04},\n",
        "    {'params': net.DAUs[0].mu2, 'lr': 0.04},\n",
        "    {'params': net.DAUs[1].mu1, 'lr': 0.04},\n",
        "    {'params': net.DAUs[1].mu2, 'lr': 0.04},\n",
        "    {'params': net.DAUs[0].w, 'lr': 0.04},\n",
        "    {'params': net.DAUs[1].w, 'lr': 0.04},\n",
        "    {'params': net.fc1.weight},\n",
        "    {'params': net.fc2.weight}], lr=0.01, momentum=0.9,weight_decay=0.0005)\n",
        "\n",
        "\n",
        "#summary(net,(3,32,32))"
      ],
      "metadata": {
        "id": "9iIJxmcUctuD"
      },
      "execution_count": 5,
      "outputs": []
    },
    {
      "cell_type": "code",
      "source": [
        "for epoch in range(100):  # loop over the dataset multiple times\n",
        "\n",
        "    running_loss = 0.0\n",
        "    for i, data in enumerate(trainloader, 0):\n",
        "        # get the inputs; data is a list of [inputs, labels]\n",
        "        inputs, labels = data\n",
        "        inputs, labels = inputs.to(device), labels.to(device)\n",
        "        labels.to(device)\n",
        "        optimizer.zero_grad()\n",
        "\n",
        "        # forward + backward + optimize\n",
        "        outputs = net(inputs)\n",
        "        \n",
        "        loss = criterion(outputs, labels)\n",
        "        loss.backward()\n",
        "        optimizer.step()\n",
        "\n",
        "        # print statistics\n",
        "        running_loss += loss.item()\n",
        "        if i % 2000 == 1999:    # print every 2000 mini-batches\n",
        "            print(f'[{epoch + 1}, {i + 1:5d}] loss: {running_loss / 2000:.3f}')\n",
        "            running_loss = 0.0\n",
        "\n",
        "print('Finished Training')"
      ],
      "metadata": {
        "colab": {
          "base_uri": "https://localhost:8080/"
        },
        "id": "Dp3mcxGkcund",
        "outputId": "8a8c6a54-1c33-48e3-8f5b-2da1d6200b96"
      },
      "execution_count": null,
      "outputs": [
        {
          "output_type": "stream",
          "name": "stderr",
          "text": [
            "/usr/local/lib/python3.7/dist-packages/ipykernel_launcher.py:57: UserWarning: Using padding='same' with even kernel lengths and odd dilation may require a zero-padded copy of the input be created (Triggered internally at  ../aten/src/ATen/native/Convolution.cpp:647.)\n"
          ]
        },
        {
          "output_type": "stream",
          "name": "stdout",
          "text": [
            "[1,  2000] loss: 2.148\n",
            "[2,  2000] loss: 2.065\n",
            "[3,  2000] loss: 2.040\n",
            "[4,  2000] loss: 2.025\n",
            "[5,  2000] loss: 2.007\n",
            "[6,  2000] loss: 2.004\n",
            "[7,  2000] loss: 2.000\n",
            "[8,  2000] loss: 1.995\n",
            "[9,  2000] loss: 1.996\n",
            "[10,  2000] loss: 1.993\n",
            "[11,  2000] loss: 1.990\n",
            "[12,  2000] loss: 1.989\n",
            "[13,  2000] loss: 1.987\n",
            "[14,  2000] loss: 1.988\n",
            "[15,  2000] loss: 1.984\n",
            "[16,  2000] loss: 1.982\n",
            "[17,  2000] loss: 1.974\n",
            "[18,  2000] loss: 1.971\n",
            "[19,  2000] loss: 1.973\n",
            "[20,  2000] loss: 1.963\n",
            "[21,  2000] loss: 1.966\n",
            "[22,  2000] loss: 1.964\n",
            "[23,  2000] loss: 1.961\n",
            "[24,  2000] loss: 1.959\n",
            "[25,  2000] loss: 1.955\n",
            "[26,  2000] loss: 1.948\n",
            "[27,  2000] loss: 1.947\n",
            "[28,  2000] loss: 1.947\n",
            "[29,  2000] loss: 1.947\n",
            "[30,  2000] loss: 1.938\n",
            "[31,  2000] loss: 1.941\n",
            "[32,  2000] loss: 1.937\n",
            "[33,  2000] loss: 1.939\n",
            "[34,  2000] loss: 1.935\n",
            "[35,  2000] loss: 1.929\n",
            "[36,  2000] loss: 1.932\n",
            "[37,  2000] loss: 1.920\n",
            "[38,  2000] loss: 1.919\n",
            "[39,  2000] loss: 1.914\n",
            "[40,  2000] loss: 1.920\n"
          ]
        }
      ]
    },
    {
      "cell_type": "code",
      "source": [
        "correct = 0\n",
        "total = 0\n",
        "# since we're not training, we don't need to calculate the gradients for our outputs\n",
        "with torch.no_grad():\n",
        "    for data in testloader:\n",
        "        images, labels = data\n",
        "        # calculate outputs by running images through the network\n",
        "        images, labels = images.to(device), labels.to(device)\n",
        "        outputs = net(images)\n",
        "        # the class with the highest energy is what we choose as prediction\n",
        "        _, predicted = torch.max(outputs.data, 1)\n",
        "        total += labels.size(0)\n",
        "        correct += (predicted == labels).sum().item()\n",
        "\n",
        "print(f'Accuracy of the network on the 10000 test images: {100 * correct // total} %')"
      ],
      "metadata": {
        "colab": {
          "base_uri": "https://localhost:8080/"
        },
        "id": "cLJsokcVcvxE",
        "outputId": "5514b8a0-e3ee-4c26-d0d0-0e1013feb050"
      },
      "execution_count": null,
      "outputs": [
        {
          "output_type": "stream",
          "name": "stdout",
          "text": [
            "Accuracy of the network on the 10000 test images: 30 %\n"
          ]
        }
      ]
    }
  ]
}